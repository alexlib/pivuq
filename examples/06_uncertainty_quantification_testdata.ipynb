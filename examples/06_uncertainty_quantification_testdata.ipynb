{
 "cells": [
  {
   "cell_type": "markdown",
   "id": "3a30f95a-bb8f-4de5-8549-58ff4ab0a548",
   "metadata": {},
   "source": [
    "# Uncertainty Quantification using Image Matching - Cylinder wake\n",
    "\n",
    "\n",
    "## Description\n",
    "\n",
    "Based on paper and source code:\n",
    " - Sciacchitano, A., Wieneke, B., & Scarano, F. (2013). PIV uncertainty quantification by image matching. *Measurement Science and Technology*, 24 (4). https://doi.org/10.1088/0957-0233/24/4/045302. \n",
    " - http://piv.de/uncertainty/?page_id=221\n",
    " \n",
    "*Step 1: Particle peak detection*\n",
    "\n",
    "As described by (Sciacchitano et al., 2013, Eq. 1), the image intensity product $\\Pi$ from image matching intensities is defined as:\n",
    "$$\n",
    "\\Pi = \\hat{I}_1\\hat{I}_2\n",
    "$$\n",
    "The peaks image $\\varphi$ is defined as:\n",
    "$$\n",
    "\\varphi(i,j) = \\begin{cases}\n",
    "1\\quad\\text{if }\\Pi(i,j)\\text{ is a relative maximum} \\\\\n",
    "0\\quad\\text{otherwise}\n",
    "\\end{cases}\n",
    "$$\n",
    "\n",
    "*Step 2: Disparity vector computation*\n",
    "\n",
    "The sub-pixel peak position estimator adopted here is the standard 3-point Gaussian fit. The particle positions of times $t_1$ and $t_2$ are \n",
    "defined as $\\boldsymbol{X}^1 = \\{x^1_1,x^1_2,...,x^1_N\\}$ and $\\boldsymbol{X}^2 = \\{x^2_1,x^2_2,...,x^2_N\\}$. Discrete disparity vectors are defined as:\n",
    "$$\n",
    "\\boldsymbol{D} = \\boldsymbol{X}^2 - \\boldsymbol{X}^1\n",
    "$$\n"
   ]
  },
  {
   "cell_type": "markdown",
   "id": "2eecd87f-a483-469a-b971-71ea327fd353",
   "metadata": {},
   "source": [
    "## Setup"
   ]
  },
  {
   "cell_type": "markdown",
   "id": "e2f92e17-26d8-4bdd-88a1-f9998bb47971",
   "metadata": {},
   "source": [
    "**Packages**"
   ]
  },
  {
   "cell_type": "code",
   "execution_count": 1,
   "id": "8f7ed247-39a2-4510-a25c-c9ab02edd2cb",
   "metadata": {},
   "outputs": [],
   "source": [
    "%reload_ext autoreload\n",
    "%autoreload 2"
   ]
  },
  {
   "cell_type": "code",
   "execution_count": 2,
   "id": "124a2408-2ef1-4235-a3ac-fbc65af65ed4",
   "metadata": {},
   "outputs": [],
   "source": [
    "import matplotlib.pyplot as plt\n",
    "import numpy as np\n",
    "import os\n",
    "\n",
    "import pivuq"
   ]
  },
  {
   "cell_type": "markdown",
   "id": "e6c8410d-7f59-413c-b2b7-aab97dc008fe",
   "metadata": {},
   "source": [
    "**Load images**"
   ]
  },
  {
   "cell_type": "code",
   "execution_count": 3,
   "id": "2d3bc993-e581-46a5-88c9-83a994029516",
   "metadata": {},
   "outputs": [],
   "source": [
    "parent_path = \"./data/particledisparity_code_testdata/\"\n",
    "image_pair = np.array(\n",
    "    [\n",
    "        plt.imread(os.path.join(parent_path + ipath)).astype(\"float\")\n",
    "        for ipath in [\"B00010.tif\", \"B00011.tif\"]\n",
    "    ]\n",
    ")"
   ]
  },
  {
   "cell_type": "markdown",
   "id": "2e0f0f9e-97b9-40d5-9cce-978ea89bc486",
   "metadata": {},
   "source": [
    "**Load reference velocity**"
   ]
  },
  {
   "cell_type": "code",
   "execution_count": 74,
   "id": "beb8b930-e55d-490a-aefa-7f8a07a8c658",
   "metadata": {},
   "outputs": [],
   "source": [
    "data = np.loadtxt(os.path.join(parent_path + \"B00010_UQ.dat\"), skiprows=3).T\n",
    "\n",
    "I, J = 128, 128\n",
    "X_ref = np.reshape(data[0], (I, J)) - 1  # zero-index\n",
    "Y_ref = np.reshape(data[1], (I, J)) - 1\n",
    "U_ref = np.stack((np.reshape(data[2], (I, J)), np.reshape(data[3], (I, J))))\n",
    "e_ref = np.stack((np.reshape(data[4], (I, J)), np.reshape(data[5], (I, J))))\n",
    "N_ref = np.reshape(data[6], (I, J))\n",
    "\n",
    "window_size = X_ref[0][1] - X_ref[0][0]"
   ]
  },
  {
   "cell_type": "markdown",
   "id": "1716a655-e981-4dc3-bd90-838080734623",
   "metadata": {},
   "source": [
    "## Uncertainity quantificiation using image matching"
   ]
  },
  {
   "cell_type": "code",
   "execution_count": 75,
   "id": "08b705f5-eec4-4379-9b2c-68a4e432d8cc",
   "metadata": {},
   "outputs": [],
   "source": [
    "# %%time\n",
    "# warped_image_pair = pivuq.warp(\n",
    "#     image_pair,\n",
    "#     U_ref,\n",
    "#     velocity_upsample_kind=\"linear\",\n",
    "#     direction=\"center\",\n",
    "#     nsteps=1,\n",
    "#     order=1,\n",
    "# )"
   ]
  },
  {
   "cell_type": "code",
   "execution_count": 76,
   "id": "a797247f-a8fb-4b45-bce8-b5a46d123347",
   "metadata": {},
   "outputs": [],
   "source": [
    "# %%time\n",
    "# D, c = pivuq.lib.disparity_vector_computation(\n",
    "#     warped_image_pair, radius=2, sliding_window_size=16\n",
    "# )\n",
    "# print(f\"{np.sum(c):e}\")"
   ]
  },
  {
   "cell_type": "code",
   "execution_count": 77,
   "id": "64c0c4dc-efca-4a6f-a0c2-8ddeca75ebc1",
   "metadata": {},
   "outputs": [],
   "source": [
    "# plt.imshow(c, vmax=50, interpolation=None)\n",
    "# plt.colorbar()\n",
    "# plt.imshow(D[1], interpolation=None, vmin=-1, vmax=1)\n",
    "# plt.colorbar()\n",
    "\n",
    "# plt.imshow(c>0, interpolation=None)\n",
    "# plt.colorbar()\n",
    "\n",
    "# plt.axis([300, 400, 300, 200])"
   ]
  },
  {
   "cell_type": "code",
   "execution_count": null,
   "id": "344b42d5-5fc5-4581-976a-770660263631",
   "metadata": {},
   "outputs": [],
   "source": [
    "%%time\n",
    "X, Y, delta, N, mu, sigma = pivuq.disparity.sws(\n",
    "    image_pair,\n",
    "    U_ref,\n",
    "    window_size=16,\n",
    "    window=\"gaussian\",\n",
    "    radius=2,\n",
    "    sliding_window_subtraction=True,\n",
    "    ROI=[10, 450, 220, 430],\n",
    "    velocity_upsample_kind=\"linear\",\n",
    "    warp_direction=\"center\",\n",
    "    warp_order=1,\n",
    "    warp_nsteps=1,\n",
    ")"
   ]
  },
  {
   "cell_type": "markdown",
   "id": "8bd3f1e3-2f8a-437b-b7c7-7fbd607653f7",
   "metadata": {},
   "source": [
    "## Plot: Disparity statistics"
   ]
  },
  {
   "cell_type": "code",
   "execution_count": null,
   "id": "e86502a7-a3d6-4560-a777-f34d9e967774",
   "metadata": {},
   "outputs": [],
   "source": [
    "fig, axes = plt.subplots(nrows=2, ncols=4, sharex=True, sharey=True, figsize=(15, 8))\n",
    "\n",
    "# References\n",
    "ax = axes[0, 0]\n",
    "im = ax.contourf(X_ref, Y_ref, N_ref, np.linspace(0, 30, 11))\n",
    "fig.colorbar(im, ax=ax)\n",
    "ax.set(title=\"$N_{ref}$\")\n",
    "\n",
    "ax = axes[0, 1]\n",
    "im = ax.contourf(X_ref, Y_ref, e_ref[0], np.linspace(-0.5, 0.5, 11), extend=\"max\")\n",
    "fig.colorbar(im, ax=ax)\n",
    "ax.set(title=\"$|\\delta_{ref,x}|$\")\n",
    "\n",
    "ax = axes[0, 2]\n",
    "im = ax.contourf(X_ref, Y_ref, e_ref[1], np.linspace(-0.5, 0.5, 11), extend=\"max\")\n",
    "fig.colorbar(im, ax=ax)\n",
    "ax.set(title=\"$|\\delta_{ref,y}|$\")\n",
    "\n",
    "ax = axes[0, 3]\n",
    "im = ax.contourf(X_ref, Y_ref, np.linalg.norm(e_ref, axis=0), np.linspace(0, 1, 11))\n",
    "fig.colorbar(im, ax=ax)\n",
    "ax.set(title=\"$|\\delta_{ref}|$\")\n",
    "\n",
    "\n",
    "# Calculated\n",
    "ax = axes[1, 0]\n",
    "im = ax.contourf(X, Y, N, np.linspace(0, 30, 11), extend=\"max\")\n",
    "fig.colorbar(im, ax=ax)\n",
    "ax.set(title=\"$N$\")\n",
    "\n",
    "ax = axes[1, 1]\n",
    "im = ax.contourf(X, Y, delta[0], np.linspace(-0.5, 0.5, 11), extend=\"max\")\n",
    "fig.colorbar(im, ax=ax)\n",
    "ax.set(title=\"$|\\delta_{x}|$\")\n",
    "\n",
    "ax = axes[1, 2]\n",
    "im = ax.contourf(X, Y, delta[1], np.linspace(-0.5, 0.5, 11), extend=\"max\")\n",
    "fig.colorbar(im, ax=ax)\n",
    "ax.set(title=\"$|\\delta_{y}|$\")\n",
    "\n",
    "ax = axes[1, 3]\n",
    "im = ax.contourf(X, Y, np.linalg.norm(delta, axis=0), np.linspace(0, 1, 11))\n",
    "fig.colorbar(im, ax=ax)\n",
    "ax.set(title=\"$|\\delta|$\");"
   ]
  },
  {
   "cell_type": "markdown",
   "id": "afb66138-0bd1-4218-95e8-b43de8d1ed71",
   "metadata": {},
   "source": [
    "## Plot: Disparity histogram"
   ]
  },
  {
   "cell_type": "code",
   "execution_count": null,
   "id": "08c3c3e5-94a8-4bef-a721-6c993b0f71d7",
   "metadata": {},
   "outputs": [],
   "source": [
    "fig, axes = plt.subplots(ncols=3, figsize=(15, 3))\n",
    "\n",
    "for i, (ax, label) in enumerate(\n",
    "    zip(axes[:2], [r\"$\\delta_x$ (px)\", r\"$\\delta_y$ (px)\"])\n",
    "):\n",
    "    values = e_ref[i].ravel()\n",
    "    ax.hist(\n",
    "        values[np.abs(values) > 0],\n",
    "        bins=100,\n",
    "        density=True,\n",
    "        color=\"tab:red\",\n",
    "        label=\"ref.\",\n",
    "        alpha=0.75,\n",
    "    )\n",
    "    ax.set(title=label)\n",
    "\n",
    "for i, (ax, label) in enumerate(\n",
    "    zip(axes[:2], [r\"$\\delta_x$ (px)\", r\"$\\delta_y$ (px)\"])\n",
    "):\n",
    "    values = delta[i].ravel()\n",
    "    ax.hist(\n",
    "        values[np.abs(values) > 0],\n",
    "        bins=100,\n",
    "        density=True,\n",
    "        color=\"tab:blue\",\n",
    "        label=\"calc.\",\n",
    "        alpha=0.75,\n",
    "    )\n",
    "    ax.set(title=label)\n",
    "\n",
    "ax = axes[-1]\n",
    "values = np.linalg.norm(e_ref, axis=0).ravel()\n",
    "ax.hist(\n",
    "    values[np.abs(values) > 0],\n",
    "    bins=50,\n",
    "    density=True,\n",
    "    color=\"tab:red\",\n",
    "    label=\"ref.\",\n",
    "    alpha=0.75,\n",
    ")\n",
    "\n",
    "values = np.linalg.norm(delta, axis=0).ravel()\n",
    "ax.hist(\n",
    "    values[np.abs(values) > 0],\n",
    "    bins=50,\n",
    "    density=True,\n",
    "    color=\"tab:blue\",\n",
    "    label=\"calc.\",\n",
    "    alpha=0.75,\n",
    ")\n",
    "ax.set(title=\"$|\\delta|$ (px)\")\n",
    "ax.legend();"
   ]
  },
  {
   "cell_type": "code",
   "execution_count": null,
   "id": "a669c5d9-f89f-48a9-9be7-3410c0528236",
   "metadata": {},
   "outputs": [],
   "source": []
  }
 ],
 "metadata": {
  "kernelspec": {
   "display_name": "Python 3 (ipykernel)",
   "language": "python",
   "name": "python3"
  },
  "language_info": {
   "codemirror_mode": {
    "name": "ipython",
    "version": 3
   },
   "file_extension": ".py",
   "mimetype": "text/x-python",
   "name": "python",
   "nbconvert_exporter": "python",
   "pygments_lexer": "ipython3",
   "version": "3.9.12"
  }
 },
 "nbformat": 4,
 "nbformat_minor": 5
}
